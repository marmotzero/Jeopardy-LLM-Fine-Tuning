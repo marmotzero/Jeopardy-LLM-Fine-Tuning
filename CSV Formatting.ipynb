{
 "cells": [
  {
   "cell_type": "markdown",
   "metadata": {},
   "source": [
    "This code is simply for reducing the amount of rows in a CSV file by importing to Pandas and then exporting again to CSV.\n",
    "\n",
    "The benefit of this is shortening the main Jeopardy file so that it is small enough to import into a Google Sheet, since Google AI studio allows fine tuning from Google Sheets"
   ]
  },
  {
   "cell_type": "code",
   "execution_count": 1,
   "metadata": {},
   "outputs": [],
   "source": [
    "import pandas as pd\n"
   ]
  },
  {
   "cell_type": "code",
   "execution_count": 2,
   "metadata": {},
   "outputs": [
    {
     "name": "stdout",
     "output_type": "stream",
     "text": [
      "   Show Number    Air Date      Round                         Category  Value  \\\n",
      "0         4680  2004-12-31  Jeopardy!                          HISTORY   $200   \n",
      "1         4680  2004-12-31  Jeopardy!  ESPN's TOP 10 ALL-TIME ATHLETES   $200   \n",
      "2         4680  2004-12-31  Jeopardy!      EVERYBODY TALKS ABOUT IT...   $200   \n",
      "3         4680  2004-12-31  Jeopardy!                 THE COMPANY LINE   $200   \n",
      "4         4680  2004-12-31  Jeopardy!              EPITAPHS & TRIBUTES   $200   \n",
      "5         4680  2004-12-31  Jeopardy!                   3-LETTER WORDS   $200   \n",
      "6         4680  2004-12-31  Jeopardy!                          HISTORY   $400   \n",
      "7         4680  2004-12-31  Jeopardy!  ESPN's TOP 10 ALL-TIME ATHLETES   $400   \n",
      "8         4680  2004-12-31  Jeopardy!      EVERYBODY TALKS ABOUT IT...   $400   \n",
      "9         4680  2004-12-31  Jeopardy!                 THE COMPANY LINE   $400   \n",
      "\n",
      "                                            Question          Answer  \n",
      "0  For the last 8 years of his life, Galileo was ...      Copernicus  \n",
      "1  No. 2: 1912 Olympian; football star at Carlisl...      Jim Thorpe  \n",
      "2  The city of Yuma in this state has a record av...         Arizona  \n",
      "3  In 1963, live on \"The Art Linkletter Show\", th...      McDonald's  \n",
      "4  Signer of the Dec. of Indep., framer of the Co...      John Adams  \n",
      "5  In the title of an Aesop fable, this insect sh...         the ant  \n",
      "6  Built in 312 B.C. to link Rome & the South of ...  the Appian Way  \n",
      "7  No. 8: 30 steals for the Birmingham Barons; 2,...  Michael Jordan  \n",
      "8  In the winter of 1971-72, a record 1,122 inche...      Washington  \n",
      "9  This housewares store was named for the packag...  Crate & Barrel  \n",
      "Index(['Show Number', ' Air Date', ' Round', ' Category', ' Value',\n",
      "       ' Question', ' Answer'],\n",
      "      dtype='object')\n",
      "Show Number    object\n",
      " Air Date      object\n",
      " Round         object\n",
      " Category      object\n",
      " Value         object\n",
      " Question      object\n",
      " Answer        object\n",
      "dtype: object\n"
     ]
    }
   ],
   "source": [
    "jeopardy = pd.read_csv('JEOPARDY_CSV.csv')\n",
    "\n",
    "print(jeopardy.head(10))\n",
    "\n",
    "jeopardy = jeopardy.astype(str)\n",
    "print(jeopardy.columns)\n",
    "print(jeopardy.dtypes)"
   ]
  },
  {
   "cell_type": "code",
   "execution_count": 3,
   "metadata": {},
   "outputs": [],
   "source": [
    "# Optional code for shortening the number of rows if training is expensive\n",
    "\n",
    "jeopardy = jeopardy.iloc[:10000]"
   ]
  },
  {
   "cell_type": "code",
   "execution_count": 4,
   "metadata": {},
   "outputs": [],
   "source": [
    "jeopardy_out = 'jeopardy_google_AI_studio.csv'\n",
    "\n",
    "jeopardy.to_csv(jeopardy_out, index=False)"
   ]
  }
 ],
 "metadata": {
  "kernelspec": {
   "display_name": "Python 3",
   "language": "python",
   "name": "python3"
  },
  "language_info": {
   "codemirror_mode": {
    "name": "ipython",
    "version": 3
   },
   "file_extension": ".py",
   "mimetype": "text/x-python",
   "name": "python",
   "nbconvert_exporter": "python",
   "pygments_lexer": "ipython3",
   "version": "3.11.7"
  }
 },
 "nbformat": 4,
 "nbformat_minor": 2
}
