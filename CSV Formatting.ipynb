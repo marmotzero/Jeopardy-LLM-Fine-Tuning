{
 "cells": [
  {
   "cell_type": "markdown",
   "metadata": {},
   "source": [
    "This code is simply for reducing the amount of rows in a CSV file by importing to Pandas and then exporting again to CSV.\n",
    "\n",
    "The benefit of this is shortening the main Jeopardy file so that it is small enough to import into a Google Sheet, since Google AI studio allows fine tuning from Google Sheets"
   ]
  },
  {
   "cell_type": "code",
   "execution_count": null,
   "metadata": {},
   "outputs": [],
   "source": [
    "import pandas as pd\n"
   ]
  },
  {
   "cell_type": "code",
   "execution_count": null,
   "metadata": {},
   "outputs": [],
   "source": [
    "jeopardy = pd.read_csv('JEOPARDY_CSV.csv')\n",
    "\n",
    "print(jeopardy.head(10))\n",
    "\n",
    "jeopardy = jeopardy.astype(str)\n",
    "print(jeopardy.columns)\n",
    "print(jeopardy.dtypes)"
   ]
  },
  {
   "cell_type": "code",
   "execution_count": null,
   "metadata": {},
   "outputs": [],
   "source": [
    "# Optional code for shortening the number of rows if training is expensive\n",
    "\n",
    "jeopardy = jeopardy.iloc[:10000]"
   ]
  },
  {
   "cell_type": "code",
   "execution_count": null,
   "metadata": {},
   "outputs": [],
   "source": [
    "jeopardy_out = 'jeopardy_google_AI_studio.csv'\n",
    "\n",
    "jeopardy.to_csv(jeopardy_out, index=False)"
   ]
  }
 ],
 "metadata": {
  "language_info": {
   "name": "python"
  }
 },
 "nbformat": 4,
 "nbformat_minor": 2
}
